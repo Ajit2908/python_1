{
 "cells": [
  {
   "cell_type": "markdown",
   "id": "b3ce8094",
   "metadata": {},
   "source": [
    "##### Write a code to find the degree of each vertices, and store it in a dictionary (Where key are file name and degree is value). Sort the keys of the dictionary by the degree stored in the values."
   ]
  },
  {
   "cell_type": "code",
   "execution_count": 5,
   "id": "fc337f2a",
   "metadata": {},
   "outputs": [
    {
     "name": "stdout",
     "output_type": "stream",
     "text": [
      "Vertex Degrees:\n",
      "UP: 4\n",
      "BH: 2\n",
      "DL: 2\n",
      "MP: 2\n",
      "UT: 2\n",
      "\n",
      "Vertices sorted by degree (low to high):\n",
      "BH\n",
      "DL\n",
      "MP\n",
      "UT\n",
      "UP\n"
     ]
    }
   ],
   "source": [
    "\n",
    "def sort_by_degree(graph):\n",
    "    vertex_degree = {}\n",
    "\n",
    "    for vertex in graph:\n",
    "        neighbors = graph[vertex]\n",
    "        count = 0\n",
    "        for neighbor in neighbors:\n",
    "            count = count + 1\n",
    "        vertex_degree[vertex] = count\n",
    "    vertex_names = []\n",
    "    for name in vertex_degree:\n",
    "        vertex_names.append(name)\n",
    "\n",
    "    length = len(vertex_names)\n",
    "\n",
    "    for i in range(length):\n",
    "        smallest = i\n",
    "        for j in range(i + 1, length):\n",
    "            first = vertex_names[smallest]\n",
    "            second = vertex_names[j]\n",
    "            if vertex_degree[second] < vertex_degree[first]:\n",
    "                smallest = j\n",
    "\n",
    "        temp = vertex_names[i]\n",
    "        vertex_names[i] = vertex_names[smallest]\n",
    "        vertex_names[smallest] = temp\n",
    "\n",
    "    \n",
    "    print(\"Vertex Degrees:\")\n",
    "    for name in vertex_degree:\n",
    "        print(name + \":\", vertex_degree[name])\n",
    "\n",
    "    print(\"\\nVertices sorted by degree (low to high):\")\n",
    "    for name in vertex_names:\n",
    "        print(name)\n",
    "graph={'UP':['BH','MP','DL','UT'],'BH':['UT','UP'],'DL':['UP','MP'],'MP':['UP','DL'],'UT':['UP','BH']}\n",
    "sort_by_degree(graph)"
   ]
  },
  {
   "cell_type": "markdown",
   "id": "be4821a5",
   "metadata": {},
   "source": [
    "#### Write a code to inter-convert the 3 graph representations we have learnt."
   ]
  },
  {
   "cell_type": "code",
   "execution_count": 16,
   "id": "024707e8",
   "metadata": {},
   "outputs": [],
   "source": [
    "# Convert adjacency list to edge list\n",
    "def adjacency_list_to_edge_list(adajacency_list):\n",
    "    edge_list=[]\n",
    "    if type(adajacency_list)==dict:\n",
    "        for node,neighbours in adajacency_list.items():\n",
    "            for neighbour in neighbours:\n",
    "                edge_list.append((node,neighbour))\n",
    "    return edge_list\n",
    "\n",
    "# Convert edge list to adjacency list \n",
    "def edge_list_to_adjacency_list(edge_list):\n",
    "    adjacency_list={}\n",
    "    for i in edge_list:\n",
    "        if i[0] not in adjacency_list:\n",
    "            adjacency_list[i[0]]=[]\n",
    "        adjacency_list[i[0]].append(i[1])\n",
    "    return adjacency_list\n",
    "\n",
    "# Convert adjacency list to adjacency matrix\n",
    "def adjacency_list_to_adjacency_matrix(adjacency_list):\n",
    "    adj_matrix=[]\n",
    "    if type(adjacency_list)==dict:\n",
    "        count=0\n",
    "        Nodes=[]\n",
    "        for key in adjacency_list:\n",
    "            count+=1\n",
    "            Nodes.append(key)\n",
    "        adj_matrix=[[0 for i in range(count)] for j in range(count)]\n",
    "        for node in adjacency_list:\n",
    "            node_i=0\n",
    "            for i in range(count):\n",
    "                if Nodes[i]==node:\n",
    "                    node_i=i\n",
    "                    break\n",
    "            for nieghbour in adjacency_list[node]:\n",
    "                n_j=0\n",
    "                for j in range(count):\n",
    "                    if Nodes[j]==nieghbour:\n",
    "                        n_j=j\n",
    "                        break\n",
    "                adj_matrix[node_i][n_j]=1\n",
    "                adj_matrix[n_j][node_i]=1\n",
    "    return adj_matrix\n",
    "\n",
    "# Convert adjacency matrix to adjacency list\n",
    "def adjacency_matrix_to_adjacency_list(matrix, nodes):\n",
    "    adj_list = {}\n",
    "    for i in range(len(matrix)):\n",
    "        adj_list[nodes[i]] = []\n",
    "        for j in range(len(matrix[i])):\n",
    "            if matrix[i][j] != 0:\n",
    "                adj_list[nodes[i]].append(nodes[j])\n",
    "    return adj_list\n",
    "\n",
    "# Convert adjacency matrix to edge list\n",
    "def  adjacency_matrix_to_edge_list(graph,Nodes):\n",
    "    edg_list=[]\n",
    "    for i in range(len(graph)):\n",
    "        for j in range(len(graph[i])):\n",
    "            if graph[i][j]!=0:\n",
    "                edg_list.append((Nodes[i],Nodes[j]))\n",
    "    return edg_list\n"
   ]
  },
  {
   "cell_type": "markdown",
   "id": "dcd0d7d2",
   "metadata": {},
   "source": [
    "#### Given a graph and two vertices, check if they are adjacent. "
   ]
  },
  {
   "cell_type": "code",
   "execution_count": 20,
   "id": "1fd8d4ed",
   "metadata": {},
   "outputs": [
    {
     "data": {
      "text/plain": [
       "'Yes they are adjacent'"
      ]
     },
     "execution_count": 20,
     "metadata": {},
     "output_type": "execute_result"
    }
   ],
   "source": [
    "def check_adjacent(vert1,vert2):\n",
    "    found = False\n",
    "    if vert1 in graph:\n",
    "        neighbors = graph[vert1]\n",
    "        \n",
    "        if vert2 in neighbors:\n",
    "            found = True\n",
    "        if found == True:\n",
    "            return \"Yes they are adjacent\"\n",
    "    print(\"Vertex1 not in gtaph\")\n",
    "        \n",
    "check_adjacent(\"UP\",\"MP\")"
   ]
  },
  {
   "cell_type": "code",
   "execution_count": 23,
   "id": "7580dd37",
   "metadata": {},
   "outputs": [
    {
     "name": "stdout",
     "output_type": "stream",
     "text": [
      "The graph is incomplete.\n"
     ]
    }
   ],
   "source": [
    "def check_complete(graph):\n",
    "    vertex_names = []\n",
    "    for vertex in graph:\n",
    "        vertex_names.append(vertex)\n",
    "\n",
    "    count_vertices = 0\n",
    "    i = 0\n",
    "    while i < len(vertex_names):\n",
    "        count_vertices = count_vertices + 1\n",
    "        i = i + 1\n",
    "    is_complete = True\n",
    "    i = 0\n",
    "    while i < count_vertices:\n",
    "        current_vertex = vertex_names[i]\n",
    "        neighbors = graph[current_vertex]\n",
    "\n",
    "        neighbor_count = 0\n",
    "        j = 0\n",
    "        while j < len(neighbors):\n",
    "            neighbor_count = neighbor_count + 1\n",
    "            j = j + 1\n",
    "        if neighbor_count != count_vertices - 1:\n",
    "            is_complete = False\n",
    "            break\n",
    "        i = i + 1\n",
    "    if is_complete == True:\n",
    "        print(\"The graph is complete.\")\n",
    "    else:\n",
    "        print(\"The graph is incomplete.\")\n",
    "check_complete(graph)"
   ]
  },
  {
   "cell_type": "markdown",
   "id": "a2ea4ca1",
   "metadata": {},
   "source": [
    "### ## Check if a graph is connected."
   ]
  },
  {
   "cell_type": "code",
   "execution_count": 25,
   "id": "28b2c5d0",
   "metadata": {},
   "outputs": [
    {
     "name": "stdout",
     "output_type": "stream",
     "text": [
      "The graph is connected.\n"
     ]
    }
   ],
   "source": [
    "def check_connected(graph):\n",
    "    visited = []\n",
    "    vertex_list = []\n",
    "    for v in graph:\n",
    "        vertex_list.append(v)\n",
    "    start = vertex_list[0]\n",
    "    visited.append(start)\n",
    "\n",
    "    \n",
    "    changed = True\n",
    "    while changed == True:\n",
    "        changed = False\n",
    "        i = 0\n",
    "        while i < len(vertex_list):\n",
    "            current = vertex_list[i]\n",
    "\n",
    "            already_visited = False\n",
    "            j = 0\n",
    "            while j < len(visited):\n",
    "                if visited[j] == current:\n",
    "                    already_visited = True\n",
    "                    break\n",
    "                j = j + 1\n",
    "\n",
    "            if already_visited == False:\n",
    "                neighbors = graph[current]\n",
    "                k = 0\n",
    "                while k < len(neighbors):\n",
    "                    n = neighbors[k]\n",
    "                    m = 0\n",
    "                    while m < len(visited):\n",
    "                        if visited[m] == n:\n",
    "                            visited.append(current)\n",
    "                            changed = True\n",
    "                            m = len(visited) \n",
    "                            break\n",
    "                        m = m + 1\n",
    "                    k = k + 1\n",
    "            i = i + 1\n",
    "    connected = True\n",
    "    i = 0\n",
    "    while i < len(vertex_list):\n",
    "        found = False\n",
    "        j = 0\n",
    "        while j < len(visited):\n",
    "            if vertex_list[i] == visited[j]:\n",
    "                found = True\n",
    "                break\n",
    "            j = j + 1\n",
    "        if found == False:\n",
    "            connected = False\n",
    "            break\n",
    "        i = i + 1\n",
    "    if connected == True:\n",
    "        print(\"The graph is connected.\")\n",
    "    else:\n",
    "        print(\"The graph is not connected.\")\n",
    "check_connected(graph)"
   ]
  },
  {
   "cell_type": "markdown",
   "id": "b7039802",
   "metadata": {},
   "source": [
    "#### Given a graph and a list of vertices, check if it forms a walk, or a trail or a path or none of these."
   ]
  },
  {
   "cell_type": "code",
   "execution_count": 26,
   "id": "2e4914a7",
   "metadata": {},
   "outputs": [],
   "source": [
    "def check_type_of_walk(graph, walk):\n",
    "    total = 0\n",
    "    edge_repeats = []\n",
    "    node_repeats = []\n",
    "\n",
    "    i = 0\n",
    "    while i < len(walk) - 1:\n",
    "        u = walk[i]\n",
    "        v = walk[i + 1]\n",
    "        exists = False\n",
    "        if u in graph:\n",
    "            j = 0\n",
    "            while j < len(graph[u]):\n",
    "                if graph[u][j] == v:\n",
    "                    exists = True\n",
    "                j = j + 1\n",
    "        if exists == False:\n",
    "            print(\"Not a walk.\")\n",
    "            return\n",
    "        edge_pair = u + \"-\" + v\n",
    "        reverse_pair = v + \"-\" + u\n",
    "\n",
    "        k = 0\n",
    "        already = False\n",
    "        while k < len(edge_repeats):\n",
    "            if edge_repeats[k] == edge_pair or edge_repeats[k] == reverse_pair:\n",
    "                already = True\n",
    "                break\n",
    "            k = k + 1\n",
    "        if already == True:\n",
    "            total = total + 1\n",
    "        edge_repeats.append(edge_pair)\n",
    "        i = i + 1\n",
    "    i = 0\n",
    "    while i < len(walk):\n",
    "        v = walk[i]\n",
    "        j = 0\n",
    "        count = 0\n",
    "        while j < len(walk):\n",
    "            if walk[j] == v:\n",
    "                count = count + 1\n",
    "            j = j + 1\n",
    "        if count > 1:\n",
    "            node_repeats.append(v)\n",
    "        i = i + 1\n",
    "\n",
    "    if total == 0 and len(node_repeats) == 0:\n",
    "        print(\"It's a path.\")\n",
    "    elif total == 0:\n",
    "        print(\"It's a trail.\")\n",
    "    else:\n",
    "        print(\"It's a walk.\")\n",
    "\n"
   ]
  },
  {
   "cell_type": "markdown",
   "id": "ce7bb702",
   "metadata": {},
   "source": [
    "#### Check if a given graph is a tree."
   ]
  },
  {
   "cell_type": "code",
   "execution_count": 27,
   "id": "046bd090",
   "metadata": {},
   "outputs": [
    {
     "name": "stdout",
     "output_type": "stream",
     "text": [
      "Graph is not a tree.\n"
     ]
    }
   ],
   "source": [
    "visited = []\n",
    "parent = {}\n",
    "\n",
    "#  I am using here depth first search(dfs)\n",
    "def Depth_first_search(node, prev):\n",
    "    visited.append(node)\n",
    "    i = 0\n",
    "    while i < len(graph[node]):\n",
    "        neigh = graph[node][i]\n",
    "        if neigh != prev:\n",
    "            found = False\n",
    "            j = 0\n",
    "            while j < len(visited):\n",
    "                if visited[j] == neigh:\n",
    "                    found = True\n",
    "                j = j + 1\n",
    "            if found:\n",
    "                return False\n",
    "            if not Depth_first_search(neigh, node):\n",
    "                return False\n",
    "        i = i + 1\n",
    "    return True\n",
    "\n",
    "keys = []\n",
    "for k in graph:\n",
    "    keys.append(k)\n",
    "\n",
    "is_tree = Depth_first_search(keys[0], \"-\")\n",
    "\n",
    "\n",
    "connected = True\n",
    "i = 0\n",
    "while i < len(keys):\n",
    "    found = False\n",
    "    j = 0\n",
    "    while j < len(visited):\n",
    "        if keys[i] == visited[j]:\n",
    "            found = True\n",
    "        j = j + 1\n",
    "    if not found:\n",
    "        connected = False\n",
    "    i = i + 1\n",
    "\n",
    "if is_tree and connected:\n",
    "    print(\"Graph is a tree.\")\n",
    "else:\n",
    "    print(\"Graph is not a tree.\")\n"
   ]
  },
  {
   "cell_type": "markdown",
   "id": "384874a2",
   "metadata": {},
   "source": [
    "#### Given a connected cyclic graph, find its spanning tree."
   ]
  },
  {
   "cell_type": "code",
   "execution_count": 33,
   "id": "08bdf19d",
   "metadata": {},
   "outputs": [],
   "source": [
    "def find_spaning_tree():\n",
    "    queue = []\n",
    "    visited = []\n",
    "    spanning_tree = {}\n",
    "    start = \"A\"\n",
    "    queue.append(start)\n",
    "    visited.append(start)\n",
    "    spanning_tree[start] = []\n",
    "\n",
    "    while len(queue) > 0:\n",
    "\n",
    "        current = queue[0]\n",
    "        new_queue = []\n",
    "        i = 1\n",
    "        while i < len(queue):\n",
    "            new_queue.append(queue[i])\n",
    "            i = i + 1\n",
    "        queue = new_queue\n",
    "\n",
    "        i = 0\n",
    "        while i < len(graph[current]):\n",
    "            neighbor = graph[current][i]\n",
    "\n",
    "           \n",
    "            found = False\n",
    "            j = 0\n",
    "            while j < len(visited):\n",
    "                if visited[j] == neighbor:\n",
    "                    found = True\n",
    "                j = j + 1\n",
    "\n",
    "            if found == False:\n",
    "                visited.append(neighbor)\n",
    "                queue.append(neighbor)\n",
    "\n",
    "                if current not in spanning_tree:\n",
    "                    spanning_tree[current] = []\n",
    "                if neighbor not in spanning_tree:\n",
    "                    spanning_tree[neighbor] = []\n",
    "\n",
    "                spanning_tree[current].append(neighbor)\n",
    "                spanning_tree[neighbor].append(current)\n",
    "\n",
    "            i = i + 1\n",
    "    print(\"Spanning Tree:\")\n",
    "    for node in spanning_tree:\n",
    "        print(node, \":\", spanning_tree[node])"
   ]
  },
  {
   "cell_type": "markdown",
   "id": "de1975b3",
   "metadata": {},
   "source": [
    "#### Given a tree, find the number of leaf nodes."
   ]
  },
  {
   "cell_type": "code",
   "execution_count": null,
   "id": "bad6f281",
   "metadata": {},
   "outputs": [],
   "source": [
    "def find_no_of_nodes(tree):\n",
    "    leaf_count = 0\n",
    "    for node in tree:\n",
    "        if len(tree[node]) == 1:\n",
    "            leaf_count = leaf_count + 1\n",
    "\n",
    "    print(\"Number of leaf nodes:\", leaf_count)"
   ]
  },
  {
   "cell_type": "markdown",
   "id": "df10ce94",
   "metadata": {},
   "source": [
    "### Given a tree, check if it's a binary tree."
   ]
  },
  {
   "cell_type": "code",
   "execution_count": 35,
   "id": "482af3b9",
   "metadata": {},
   "outputs": [],
   "source": [
    "def check_binary(tree):\n",
    "    is_binary = True\n",
    "    for node in tree:\n",
    "        count = 0\n",
    "        i = 0\n",
    "        while i < len(tree[node]):\n",
    "            if tree[node][i] != node:\n",
    "                count = count + 1\n",
    "            i = i + 1\n",
    "        if count > 2:\n",
    "            is_binary = False\n",
    "\n",
    "    if is_binary:\n",
    "        print(\"Tree is a binary tree.\")\n",
    "    else:\n",
    "        print(\"Tree is not a binary tree.\")"
   ]
  },
  {
   "cell_type": "markdown",
   "id": "d45a9575",
   "metadata": {},
   "source": [
    "#### Given a tree and a node, find its height."
   ]
  },
  {
   "cell_type": "code",
   "execution_count": 36,
   "id": "12333be0",
   "metadata": {},
   "outputs": [],
   "source": [
    "\n",
    "def height(node, parent,tree):\n",
    "    max_h = 0\n",
    "    i = 0\n",
    "    while i < len(tree[node]):\n",
    "        neigh = tree[node][i]\n",
    "        if neigh != parent:\n",
    "            h = height(neigh, node)\n",
    "            if h + 1 > max_h:\n",
    "                max_h = h + 1\n",
    "        i = i + 1\n",
    "    return (\"Hieght of tree\",max_h)"
   ]
  },
  {
   "cell_type": "markdown",
   "id": "fc899e60",
   "metadata": {},
   "source": [
    "#### Given a tree and a node, find its depth."
   ]
  },
  {
   "cell_type": "code",
   "execution_count": 39,
   "id": "c45e19a4",
   "metadata": {},
   "outputs": [
    {
     "ename": "KeyError",
     "evalue": "'Starting Node'",
     "output_type": "error",
     "traceback": [
      "\u001b[31m---------------------------------------------------------------------------\u001b[39m",
      "\u001b[31mKeyError\u001b[39m                                  Traceback (most recent call last)",
      "\u001b[36mCell\u001b[39m\u001b[36m \u001b[39m\u001b[32mIn[39]\u001b[39m\u001b[32m, line 18\u001b[39m\n\u001b[32m     16\u001b[39m root_node=\u001b[33m\"\u001b[39m\u001b[33mStarting Node\u001b[39m\u001b[33m\"\u001b[39m\n\u001b[32m     17\u001b[39m target=\u001b[33m\"\u001b[39m\u001b[33mLast Node\u001b[39m\u001b[33m\"\u001b[39m\n\u001b[32m---> \u001b[39m\u001b[32m18\u001b[39m \u001b[43mfind_depth\u001b[49m\u001b[43m(\u001b[49m\u001b[43mroot_node\u001b[49m\u001b[43m,\u001b[49m\u001b[43m \u001b[49m\u001b[33;43m\"\u001b[39;49m\u001b[33;43m-\u001b[39;49m\u001b[33;43m\"\u001b[39;49m\u001b[43m,\u001b[49m\u001b[43m \u001b[49m\u001b[32;43m0\u001b[39;49m\u001b[43m,\u001b[49m\u001b[43mgraph\u001b[49m\u001b[43m)\u001b[49m\n\u001b[32m     19\u001b[39m \u001b[38;5;28;01mif\u001b[39;00m found:\n\u001b[32m     20\u001b[39m     \u001b[38;5;28mprint\u001b[39m(\u001b[33m\"\u001b[39m\u001b[33mDepth of node\u001b[39m\u001b[33m\"\u001b[39m, depth)\n",
      "\u001b[36mCell\u001b[39m\u001b[36m \u001b[39m\u001b[32mIn[39]\u001b[39m\u001b[32m, line 11\u001b[39m, in \u001b[36mfind_depth\u001b[39m\u001b[34m(current, parent, d, tree)\u001b[39m\n\u001b[32m      9\u001b[39m     \u001b[38;5;28;01mreturn\u001b[39;00m\n\u001b[32m     10\u001b[39m i = \u001b[32m0\u001b[39m\n\u001b[32m---> \u001b[39m\u001b[32m11\u001b[39m \u001b[38;5;28;01mwhile\u001b[39;00m i < \u001b[38;5;28mlen\u001b[39m(\u001b[43mtree\u001b[49m\u001b[43m[\u001b[49m\u001b[43mcurrent\u001b[49m\u001b[43m]\u001b[49m):\n\u001b[32m     12\u001b[39m     child = tree[current][i]\n\u001b[32m     13\u001b[39m     \u001b[38;5;28;01mif\u001b[39;00m child != parent:\n",
      "\u001b[31mKeyError\u001b[39m: 'Starting Node'"
     ]
    }
   ],
   "source": [
    "depth = -1\n",
    "found = False\n",
    "\n",
    "def find_depth(current, parent, d,tree):\n",
    "    global depth, found\n",
    "    if current == target:\n",
    "        depth = d\n",
    "        found = True\n",
    "        return\n",
    "    i = 0\n",
    "    while i < len(tree[current]):\n",
    "        child = tree[current][i]\n",
    "        if child != parent:\n",
    "            find_depth(child, current, d + 1)\n",
    "        i = i + 1\n",
    "root_node=\"Starting Node\"\n",
    "target=\"Last Node\"\n",
    "find_depth(root_node, \"-\", 0,graph)\n",
    "if found:\n",
    "    print(\"Depth of node\", depth)\n",
    "else:\n",
    "    print(\"Node not found.\")"
   ]
  },
  {
   "cell_type": "markdown",
   "id": "c5d9d6a1",
   "metadata": {},
   "source": []
  },
  {
   "cell_type": "code",
   "execution_count": null,
   "id": "67b5ee89",
   "metadata": {},
   "outputs": [],
   "source": []
  }
 ],
 "metadata": {
  "kernelspec": {
   "display_name": "Python 3",
   "language": "python",
   "name": "python3"
  },
  "language_info": {
   "codemirror_mode": {
    "name": "ipython",
    "version": 3
   },
   "file_extension": ".py",
   "mimetype": "text/x-python",
   "name": "python",
   "nbconvert_exporter": "python",
   "pygments_lexer": "ipython3",
   "version": "3.11.8"
  }
 },
 "nbformat": 4,
 "nbformat_minor": 5
}
